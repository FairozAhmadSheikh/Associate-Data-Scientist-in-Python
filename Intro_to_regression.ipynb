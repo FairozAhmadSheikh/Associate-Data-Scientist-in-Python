{
 "cells": [
  {
   "cell_type": "code",
   "execution_count": 62,
   "id": "f2061ece",
   "metadata": {},
   "outputs": [],
   "source": [
    "import pandas as pd"
   ]
  },
  {
   "cell_type": "code",
   "execution_count": 63,
   "id": "68399514",
   "metadata": {},
   "outputs": [
    {
     "data": {
      "text/html": [
       "<div>\n",
       "<style scoped>\n",
       "    .dataframe tbody tr th:only-of-type {\n",
       "        vertical-align: middle;\n",
       "    }\n",
       "\n",
       "    .dataframe tbody tr th {\n",
       "        vertical-align: top;\n",
       "    }\n",
       "\n",
       "    .dataframe thead th {\n",
       "        text-align: right;\n",
       "    }\n",
       "</style>\n",
       "<table border=\"1\" class=\"dataframe\">\n",
       "  <thead>\n",
       "    <tr style=\"text-align: right;\">\n",
       "      <th></th>\n",
       "      <th>pregnancies</th>\n",
       "      <th>glucose</th>\n",
       "      <th>diastolic</th>\n",
       "      <th>triceps</th>\n",
       "      <th>insulin</th>\n",
       "      <th>bmi</th>\n",
       "      <th>dpf</th>\n",
       "      <th>age</th>\n",
       "      <th>diabetes</th>\n",
       "    </tr>\n",
       "  </thead>\n",
       "  <tbody>\n",
       "    <tr>\n",
       "      <th>0</th>\n",
       "      <td>6</td>\n",
       "      <td>148</td>\n",
       "      <td>72</td>\n",
       "      <td>35</td>\n",
       "      <td>0</td>\n",
       "      <td>33.6</td>\n",
       "      <td>0.627</td>\n",
       "      <td>50</td>\n",
       "      <td>1</td>\n",
       "    </tr>\n",
       "    <tr>\n",
       "      <th>1</th>\n",
       "      <td>1</td>\n",
       "      <td>85</td>\n",
       "      <td>66</td>\n",
       "      <td>29</td>\n",
       "      <td>0</td>\n",
       "      <td>26.6</td>\n",
       "      <td>0.351</td>\n",
       "      <td>31</td>\n",
       "      <td>0</td>\n",
       "    </tr>\n",
       "    <tr>\n",
       "      <th>2</th>\n",
       "      <td>8</td>\n",
       "      <td>183</td>\n",
       "      <td>64</td>\n",
       "      <td>0</td>\n",
       "      <td>0</td>\n",
       "      <td>23.3</td>\n",
       "      <td>0.672</td>\n",
       "      <td>32</td>\n",
       "      <td>1</td>\n",
       "    </tr>\n",
       "    <tr>\n",
       "      <th>3</th>\n",
       "      <td>1</td>\n",
       "      <td>89</td>\n",
       "      <td>66</td>\n",
       "      <td>23</td>\n",
       "      <td>94</td>\n",
       "      <td>28.1</td>\n",
       "      <td>0.167</td>\n",
       "      <td>21</td>\n",
       "      <td>0</td>\n",
       "    </tr>\n",
       "    <tr>\n",
       "      <th>4</th>\n",
       "      <td>0</td>\n",
       "      <td>137</td>\n",
       "      <td>40</td>\n",
       "      <td>35</td>\n",
       "      <td>168</td>\n",
       "      <td>43.1</td>\n",
       "      <td>2.288</td>\n",
       "      <td>33</td>\n",
       "      <td>1</td>\n",
       "    </tr>\n",
       "  </tbody>\n",
       "</table>\n",
       "</div>"
      ],
      "text/plain": [
       "   pregnancies  glucose  diastolic  triceps  insulin   bmi    dpf  age  \\\n",
       "0            6      148         72       35        0  33.6  0.627   50   \n",
       "1            1       85         66       29        0  26.6  0.351   31   \n",
       "2            8      183         64        0        0  23.3  0.672   32   \n",
       "3            1       89         66       23       94  28.1  0.167   21   \n",
       "4            0      137         40       35      168  43.1  2.288   33   \n",
       "\n",
       "   diabetes  \n",
       "0         1  \n",
       "1         0  \n",
       "2         1  \n",
       "3         0  \n",
       "4         1  "
      ]
     },
     "execution_count": 63,
     "metadata": {},
     "output_type": "execute_result"
    }
   ],
   "source": [
    "df=pd.read_csv(\"https://raw.githubusercontent.com/FairozAhmadSheikh/Datasets_CSV/refs/heads/main/Diabetes.csv\")\n",
    "df.head()"
   ]
  },
  {
   "cell_type": "code",
   "execution_count": 64,
   "id": "4d46a5a3",
   "metadata": {},
   "outputs": [],
   "source": [
    "X=df.drop('diabetes',axis=1).values\n",
    "y=df['diabetes'].values"
   ]
  },
  {
   "cell_type": "markdown",
   "id": "fe711575",
   "metadata": {},
   "source": [
    "making predictions on behalf of bmi(Body Mass Index)"
   ]
  },
  {
   "cell_type": "code",
   "execution_count": 65,
   "id": "cbd436ba",
   "metadata": {},
   "outputs": [
    {
     "data": {
      "text/plain": [
       "array([33.6, 26.6, 23.3, 28.1, 43.1, 25.6, 31. , 35.3, 30.5,  0. , 37.6,\n",
       "       38. , 27.1, 30.1, 25.8, 30. , 45.8, 29.6, 43.3, 34.6, 39.3, 35.4,\n",
       "       39.8, 29. , 36.6, 31.1, 39.4, 23.2, 22.2, 34.1, 36. , 31.6, 24.8,\n",
       "       19.9, 27.6, 24. , 33.2, 32.9, 38.2, 37.1, 34. , 40.2, 22.7, 45.4,\n",
       "       27.4, 42. , 29.7, 28. , 39.1,  0. , 19.4, 24.2, 24.4, 33.7, 34.7,\n",
       "       23. , 37.7, 46.8, 40.5, 41.5,  0. , 32.9, 25. , 25.4, 32.8, 29. ,\n",
       "       32.5, 42.7, 19.6, 28.9, 32.9, 28.6, 43.4, 35.1, 32. , 24.7, 32.6,\n",
       "       37.7, 43.2, 25. , 22.4,  0. , 29.3, 24.6, 48.8, 32.4, 36.6, 38.5,\n",
       "       37.1, 26.5, 19.1, 32. , 46.7, 23.8, 24.7, 33.9, 31.6, 20.4, 28.7,\n",
       "       49.7, 39. , 26.1, 22.5, 26.6, 39.6, 28.7, 22.4, 29.5, 34.3, 37.4,\n",
       "       33.3, 34. , 31.2, 34. , 30.5, 31.2, 34. , 33.7, 28.2, 23.2, 53.2,\n",
       "       34.2, 33.6, 26.8, 33.3, 55. , 42.9, 33.3, 34.5, 27.9, 29.7, 33.3,\n",
       "       34.5, 38.3, 21.1, 33.8, 30.8, 28.7, 31.2, 36.9, 21.1, 39.5, 32.5,\n",
       "       32.4, 32.8,  0. , 32.8, 30.5, 33.7, 27.3, 37.4, 21.9, 34.3, 40.6,\n",
       "       47.9, 50. , 24.6, 25.2, 29. , 40.9, 29.7, 37.2, 44.2, 29.7, 31.6,\n",
       "       29.9, 32.5, 29.6, 31.9, 28.4, 30.8, 35.4, 28.9, 43.5, 29.7, 32.7,\n",
       "       31.2, 67.1, 45. , 39.1, 23.2, 34.9, 27.7, 26.8, 27.6, 35.9, 30.1,\n",
       "       32. , 27.9, 31.6, 22.6, 33.1, 30.4, 52.3, 24.4, 39.4, 24.3, 22.9,\n",
       "       34.8, 30.9, 31. , 40.1, 27.3, 20.4, 37.7, 23.9, 37.5, 37.7, 33.2,\n",
       "       35.5, 27.7, 42.8, 34.2, 42.6, 34.2, 41.8, 35.8, 30. , 29. , 37.8,\n",
       "       34.6, 31.6, 25.2, 28.8, 23.6, 34.6, 35.7, 37.2, 36.7, 45.2, 44. ,\n",
       "       46.2, 25.4, 35. , 29.7, 43.6, 35.9, 44.1, 30.8, 18.4, 29.2, 33.1,\n",
       "       25.6, 27.1, 38.2, 30. , 31.2, 52.3, 35.4, 30.1, 31.2, 28. , 24.4,\n",
       "       35.8, 27.6, 33.6, 30.1, 28.7, 25.9, 33.3, 30.9, 30. , 32.1, 32.4,\n",
       "       32. , 33.6, 36.3, 40. , 25.1, 27.5, 45.6, 25.2, 23. , 33.2, 34.2,\n",
       "       40.5, 26.5, 27.8, 24.9, 25.3, 37.9, 35.9, 32.4, 30.4, 27. , 26. ,\n",
       "       38.7, 45.6, 20.8, 36.1, 36.9, 36.6, 43.3, 40.5, 21.9, 35.5, 28. ,\n",
       "       30.7, 36.6, 23.6, 32.3, 31.6, 35.8, 52.9, 21. , 39.7, 25.5, 24.8,\n",
       "       30.5, 32.9, 26.2, 39.4, 26.6, 29.5, 35.9, 34.1, 19.3, 30.5, 38.1,\n",
       "       23.5, 27.5, 31.6, 27.4, 26.8, 35.7, 25.6, 35.1, 35.1, 45.5, 30.8,\n",
       "       23.1, 32.7, 43.3, 23.6, 23.9, 47.9, 33.8, 31.2, 34.2, 39.9, 25.9,\n",
       "       25.9, 32. , 34.7, 36.8, 38.5, 28.7, 23.5, 21.8, 41. , 42.2, 31.2,\n",
       "       34.4, 27.2, 42.7, 30.4, 33.3, 39.9, 35.3, 36.5, 31.2, 29.8, 39.2,\n",
       "       38.5, 34.9, 34. , 27.6, 21. , 27.5, 32.8, 38.4,  0. , 35.8, 34.9,\n",
       "       36.2, 39.2, 25.2, 37.2, 48.3, 43.4, 30.8, 20. , 25.4, 25.1, 24.3,\n",
       "       22.3, 32.3, 43.3, 32. , 31.6, 32. , 45.7, 23.7, 22.1, 32.9, 27.7,\n",
       "       24.7, 34.3, 21.1, 34.9, 32. , 24.2, 35. , 31.6, 32.9, 42.1, 28.9,\n",
       "       21.9, 25.9, 42.4, 35.7, 34.4, 42.4, 26.2, 34.6, 35.7, 27.2, 38.5,\n",
       "       18.2, 26.4, 45.3, 26. , 40.6, 30.8, 42.9, 37. ,  0. , 34.1, 40.6,\n",
       "       35. , 22.2, 30.4, 30. , 25.6, 24.5, 42.4, 37.4, 29.9, 18.2, 36.8,\n",
       "       34.3, 32.2, 33.2, 30.5, 29.7, 59.4, 25.3, 36.5, 33.6, 30.5, 21.2,\n",
       "       28.9, 39.9, 19.6, 37.8, 33.6, 26.7, 30.2, 37.6, 25.9, 20.8, 21.8,\n",
       "       35.3, 27.6, 24. , 21.8, 27.8, 36.8, 30. , 46.1, 41.3, 33.2, 38.8,\n",
       "       29.9, 28.9, 27.3, 33.7, 23.8, 25.9, 28. , 35.5, 35.2, 27.8, 38.2,\n",
       "       44.2, 42.3, 40.7, 46.5, 25.6, 26.1, 36.8, 33.5, 32.8, 28.9,  0. ,\n",
       "       26.6, 26. , 30.1, 25.1, 29.3, 25.2, 37.2, 39. , 33.3, 37.3, 33.3,\n",
       "       36.5, 28.6, 30.4, 25. , 29.7, 22.1, 24.2, 27.3, 25.6, 31.6, 30.3,\n",
       "       37.6, 32.8, 19.6, 25. , 33.2,  0. , 34.2, 31.6, 21.8, 18.2, 26.3,\n",
       "       30.8, 24.6, 29.8, 45.3, 41.3, 29.8, 33.3, 32.9, 29.6, 21.7, 36.3,\n",
       "       36.4, 39.4, 32.4, 34.9, 39.5, 32. , 34.5, 43.6, 33.1, 32.8, 28.5,\n",
       "       27.4, 31.9, 27.8, 29.9, 36.9, 25.5, 38.1, 27.8, 46.2, 30.1, 33.8,\n",
       "       41.3, 37.6, 26.9, 32.4, 26.1, 38.6, 32. , 31.3, 34.3, 32.5, 22.6,\n",
       "       29.5, 34.7, 30.1, 35.5, 24. , 42.9, 27. , 34.7, 42.1, 25. , 26.5,\n",
       "       38.7, 28.7, 22.5, 34.9, 24.3, 33.3, 21.1, 46.8, 39.4, 34.4, 28.5,\n",
       "       33.6, 32. , 45.3, 27.8, 36.8, 23.1, 27.1, 23.7, 27.8, 35.2, 28.4,\n",
       "       35.8, 40. , 19.5, 41.5, 24. , 30.9, 32.9, 38.2, 32.5, 36.1, 25.8,\n",
       "       28.7, 20.1, 28.2, 32.4, 38.4, 24.2, 40.8, 43.5, 30.8, 37.7, 24.7,\n",
       "       32.4, 34.6, 24.7, 27.4, 34.5, 26.2, 27.5, 25.9, 31.2, 28.8, 31.6,\n",
       "       40.9, 19.5, 29.3, 34.3, 29.5, 28. , 27.6, 39.4, 23.4, 37.8, 28.3,\n",
       "       26.4, 25.2, 33.8, 34.1, 26.8, 34.2, 38.7, 21.8, 38.9, 39. , 34.2,\n",
       "       27.7, 42.9, 37.6, 37.9, 33.7, 34.8, 32.5, 27.5, 34. , 30.9, 33.6,\n",
       "       25.4, 35.5, 57.3, 35.6, 30.9, 24.8, 35.3, 36. , 24.2, 24.2, 49.6,\n",
       "       44.6, 32.3,  0. , 33.2, 23.1, 28.3, 24.1, 46.1, 24.6, 42.3, 39.1,\n",
       "       38.5, 23.5, 30.4, 29.9, 25. , 34.5, 44.5, 35.9, 27.6, 35. , 38.5,\n",
       "       28.4, 39.8,  0. , 34.4, 32.8, 38. , 31.2, 29.6, 41.2, 26.4, 29.5,\n",
       "       33.9, 33.8, 23.1, 35.5, 35.6, 29.3, 38.1, 29.3, 39.1, 32.8, 39.4,\n",
       "       36.1, 32.4, 22.9, 30.1, 28.4, 28.4, 44.5, 29. , 23.3, 35.4, 27.4,\n",
       "       32. , 36.6, 39.5, 42.3, 30.8, 28.5, 32.7, 40.6, 30. , 49.3, 46.3,\n",
       "       36.4, 24.3, 31.2, 39. , 26. , 43.3, 32.4, 36.5, 32. , 36.3, 37.5,\n",
       "       35.5, 28.4, 44. , 22.5, 32.9, 36.8, 26.2, 30.1, 30.4])"
      ]
     },
     "execution_count": 65,
     "metadata": {},
     "output_type": "execute_result"
    }
   ],
   "source": [
    "X_bmi=df['bmi'].values\n",
    "X_bmi"
   ]
  },
  {
   "cell_type": "code",
   "execution_count": 66,
   "id": "fff6d5d1",
   "metadata": {},
   "outputs": [
    {
     "data": {
      "text/plain": [
       "array([33.6, 26.6, 23.3, 28.1, 43.1, 25.6, 31. , 35.3, 30.5,  0. , 37.6,\n",
       "       38. , 27.1, 30.1, 25.8, 30. , 45.8, 29.6, 43.3, 34.6, 39.3, 35.4,\n",
       "       39.8, 29. , 36.6, 31.1, 39.4, 23.2, 22.2, 34.1, 36. , 31.6, 24.8,\n",
       "       19.9, 27.6, 24. , 33.2, 32.9, 38.2, 37.1, 34. , 40.2, 22.7, 45.4,\n",
       "       27.4, 42. , 29.7, 28. , 39.1,  0. , 19.4, 24.2, 24.4, 33.7, 34.7,\n",
       "       23. , 37.7, 46.8, 40.5, 41.5,  0. , 32.9, 25. , 25.4, 32.8, 29. ,\n",
       "       32.5, 42.7, 19.6, 28.9, 32.9, 28.6, 43.4, 35.1, 32. , 24.7, 32.6,\n",
       "       37.7, 43.2, 25. , 22.4,  0. , 29.3, 24.6, 48.8, 32.4, 36.6, 38.5,\n",
       "       37.1, 26.5, 19.1, 32. , 46.7, 23.8, 24.7, 33.9, 31.6, 20.4, 28.7,\n",
       "       49.7, 39. , 26.1, 22.5, 26.6, 39.6, 28.7, 22.4, 29.5, 34.3, 37.4,\n",
       "       33.3, 34. , 31.2, 34. , 30.5, 31.2, 34. , 33.7, 28.2, 23.2, 53.2,\n",
       "       34.2, 33.6, 26.8, 33.3, 55. , 42.9, 33.3, 34.5, 27.9, 29.7, 33.3,\n",
       "       34.5, 38.3, 21.1, 33.8, 30.8, 28.7, 31.2, 36.9, 21.1, 39.5, 32.5,\n",
       "       32.4, 32.8,  0. , 32.8, 30.5, 33.7, 27.3, 37.4, 21.9, 34.3, 40.6,\n",
       "       47.9, 50. , 24.6, 25.2, 29. , 40.9, 29.7, 37.2, 44.2, 29.7, 31.6,\n",
       "       29.9, 32.5, 29.6, 31.9, 28.4, 30.8, 35.4, 28.9, 43.5, 29.7, 32.7,\n",
       "       31.2, 67.1, 45. , 39.1, 23.2, 34.9, 27.7, 26.8, 27.6, 35.9, 30.1,\n",
       "       32. , 27.9, 31.6, 22.6, 33.1, 30.4, 52.3, 24.4, 39.4, 24.3, 22.9,\n",
       "       34.8, 30.9, 31. , 40.1, 27.3, 20.4, 37.7, 23.9, 37.5, 37.7, 33.2,\n",
       "       35.5, 27.7, 42.8, 34.2, 42.6, 34.2, 41.8, 35.8, 30. , 29. , 37.8,\n",
       "       34.6, 31.6, 25.2, 28.8, 23.6, 34.6, 35.7, 37.2, 36.7, 45.2, 44. ,\n",
       "       46.2, 25.4, 35. , 29.7, 43.6, 35.9, 44.1, 30.8, 18.4, 29.2, 33.1,\n",
       "       25.6, 27.1, 38.2, 30. , 31.2, 52.3, 35.4, 30.1, 31.2, 28. , 24.4,\n",
       "       35.8, 27.6, 33.6, 30.1, 28.7, 25.9, 33.3, 30.9, 30. , 32.1, 32.4,\n",
       "       32. , 33.6, 36.3, 40. , 25.1, 27.5, 45.6, 25.2, 23. , 33.2, 34.2,\n",
       "       40.5, 26.5, 27.8, 24.9, 25.3, 37.9, 35.9, 32.4, 30.4, 27. , 26. ,\n",
       "       38.7, 45.6, 20.8, 36.1, 36.9, 36.6, 43.3, 40.5, 21.9, 35.5, 28. ,\n",
       "       30.7, 36.6, 23.6, 32.3, 31.6, 35.8, 52.9, 21. , 39.7, 25.5, 24.8,\n",
       "       30.5, 32.9, 26.2, 39.4, 26.6, 29.5, 35.9, 34.1, 19.3, 30.5, 38.1,\n",
       "       23.5, 27.5, 31.6, 27.4, 26.8, 35.7, 25.6, 35.1, 35.1, 45.5, 30.8,\n",
       "       23.1, 32.7, 43.3, 23.6, 23.9, 47.9, 33.8, 31.2, 34.2, 39.9, 25.9,\n",
       "       25.9, 32. , 34.7, 36.8, 38.5, 28.7, 23.5, 21.8, 41. , 42.2, 31.2,\n",
       "       34.4, 27.2, 42.7, 30.4, 33.3, 39.9, 35.3, 36.5, 31.2, 29.8, 39.2,\n",
       "       38.5, 34.9, 34. , 27.6, 21. , 27.5, 32.8, 38.4,  0. , 35.8, 34.9,\n",
       "       36.2, 39.2, 25.2, 37.2, 48.3, 43.4, 30.8, 20. , 25.4, 25.1, 24.3,\n",
       "       22.3, 32.3, 43.3, 32. , 31.6, 32. , 45.7, 23.7, 22.1, 32.9, 27.7,\n",
       "       24.7, 34.3, 21.1, 34.9, 32. , 24.2, 35. , 31.6, 32.9, 42.1, 28.9,\n",
       "       21.9, 25.9, 42.4, 35.7, 34.4, 42.4, 26.2, 34.6, 35.7, 27.2, 38.5,\n",
       "       18.2, 26.4, 45.3, 26. , 40.6, 30.8, 42.9, 37. ,  0. , 34.1, 40.6,\n",
       "       35. , 22.2, 30.4, 30. , 25.6, 24.5, 42.4, 37.4, 29.9, 18.2, 36.8,\n",
       "       34.3, 32.2, 33.2, 30.5, 29.7, 59.4, 25.3, 36.5, 33.6, 30.5, 21.2,\n",
       "       28.9, 39.9, 19.6, 37.8, 33.6, 26.7, 30.2, 37.6, 25.9, 20.8, 21.8,\n",
       "       35.3, 27.6, 24. , 21.8, 27.8, 36.8, 30. , 46.1, 41.3, 33.2, 38.8,\n",
       "       29.9, 28.9, 27.3, 33.7, 23.8, 25.9, 28. , 35.5, 35.2, 27.8, 38.2,\n",
       "       44.2, 42.3, 40.7, 46.5, 25.6, 26.1, 36.8, 33.5, 32.8, 28.9,  0. ,\n",
       "       26.6, 26. , 30.1, 25.1, 29.3, 25.2, 37.2, 39. , 33.3, 37.3, 33.3,\n",
       "       36.5, 28.6, 30.4, 25. , 29.7, 22.1, 24.2, 27.3, 25.6, 31.6, 30.3,\n",
       "       37.6, 32.8, 19.6, 25. , 33.2,  0. , 34.2, 31.6, 21.8, 18.2, 26.3,\n",
       "       30.8, 24.6, 29.8, 45.3, 41.3, 29.8, 33.3, 32.9, 29.6, 21.7, 36.3,\n",
       "       36.4, 39.4, 32.4, 34.9, 39.5, 32. , 34.5, 43.6, 33.1, 32.8, 28.5,\n",
       "       27.4, 31.9, 27.8, 29.9, 36.9, 25.5, 38.1, 27.8, 46.2, 30.1, 33.8,\n",
       "       41.3, 37.6, 26.9, 32.4, 26.1, 38.6, 32. , 31.3, 34.3, 32.5, 22.6,\n",
       "       29.5, 34.7, 30.1, 35.5, 24. , 42.9, 27. , 34.7, 42.1, 25. , 26.5,\n",
       "       38.7, 28.7, 22.5, 34.9, 24.3, 33.3, 21.1, 46.8, 39.4, 34.4, 28.5,\n",
       "       33.6, 32. , 45.3, 27.8, 36.8, 23.1, 27.1, 23.7, 27.8, 35.2, 28.4,\n",
       "       35.8, 40. , 19.5, 41.5, 24. , 30.9, 32.9, 38.2, 32.5, 36.1, 25.8,\n",
       "       28.7, 20.1, 28.2, 32.4, 38.4, 24.2, 40.8, 43.5, 30.8, 37.7, 24.7,\n",
       "       32.4, 34.6, 24.7, 27.4, 34.5, 26.2, 27.5, 25.9, 31.2, 28.8, 31.6,\n",
       "       40.9, 19.5, 29.3, 34.3, 29.5, 28. , 27.6, 39.4, 23.4, 37.8, 28.3,\n",
       "       26.4, 25.2, 33.8, 34.1, 26.8, 34.2, 38.7, 21.8, 38.9, 39. , 34.2,\n",
       "       27.7, 42.9, 37.6, 37.9, 33.7, 34.8, 32.5, 27.5, 34. , 30.9, 33.6,\n",
       "       25.4, 35.5, 57.3, 35.6, 30.9, 24.8, 35.3, 36. , 24.2, 24.2, 49.6,\n",
       "       44.6, 32.3,  0. , 33.2, 23.1, 28.3, 24.1, 46.1, 24.6, 42.3, 39.1,\n",
       "       38.5, 23.5, 30.4, 29.9, 25. , 34.5, 44.5, 35.9, 27.6, 35. , 38.5,\n",
       "       28.4, 39.8,  0. , 34.4, 32.8, 38. , 31.2, 29.6, 41.2, 26.4, 29.5,\n",
       "       33.9, 33.8, 23.1, 35.5, 35.6, 29.3, 38.1, 29.3, 39.1, 32.8, 39.4,\n",
       "       36.1, 32.4, 22.9, 30.1, 28.4, 28.4, 44.5, 29. , 23.3, 35.4, 27.4,\n",
       "       32. , 36.6, 39.5, 42.3, 30.8, 28.5, 32.7, 40.6, 30. , 49.3, 46.3,\n",
       "       36.4, 24.3, 31.2, 39. , 26. , 43.3, 32.4, 36.5, 32. , 36.3, 37.5,\n",
       "       35.5, 28.4, 44. , 22.5, 32.9, 36.8, 26.2, 30.1, 30.4])"
      ]
     },
     "execution_count": 66,
     "metadata": {},
     "output_type": "execute_result"
    }
   ],
   "source": [
    "X_bmi1=X[:,5]  # Another way of doing same\n",
    "X_bmi1"
   ]
  },
  {
   "cell_type": "code",
   "execution_count": 67,
   "id": "b271345b",
   "metadata": {},
   "outputs": [
    {
     "name": "stdout",
     "output_type": "stream",
     "text": [
      "(768,) (768,)\n"
     ]
    }
   ],
   "source": [
    "print(X_bmi.shape,y.shape)"
   ]
  },
  {
   "cell_type": "code",
   "execution_count": 68,
   "id": "4608b5fa",
   "metadata": {},
   "outputs": [
    {
     "name": "stdout",
     "output_type": "stream",
     "text": [
      "(768,)\n"
     ]
    }
   ],
   "source": [
    "#Reshape \n",
    "X_bmi1=X_bmi.reshape(-1,1)\n",
    "print(X_bmi.shape)"
   ]
  },
  {
   "cell_type": "code",
   "execution_count": 69,
   "id": "e89b181d",
   "metadata": {},
   "outputs": [],
   "source": [
    "import matplotlib.pyplot as plt "
   ]
  },
  {
   "cell_type": "code",
   "execution_count": 70,
   "id": "98154601",
   "metadata": {},
   "outputs": [
    {
     "data": {
      "image/png": "[encoded data removed]",
      "text/plain": [
       "<Figure size 640x480 with 1 Axes>"
      ]
     },
     "metadata": {},
     "output_type": "display_data"
    }
   ],
   "source": [
    "plt.scatter(X_bmi,y)\n",
    "plt.xlabel('BMI')\n",
    "plt.ylabel('Blood Glucose (mg/dl)')\n",
    "plt.show()"
   ]
  },
  {
   "cell_type": "code",
   "execution_count": 71,
   "id": "8efd486d",
   "metadata": {},
   "outputs": [],
   "source": [
    "from sklearn.linear_model import LinearRegression\n",
    "\n",
    "reg=LinearRegression()\n",
    "\n",
    "reg.fit(X_bmi1,y)\n",
    "\n",
    "prediction=reg.predict(X_bmi1)\n"
   ]
  },
  {
   "cell_type": "code",
   "execution_count": 72,
   "id": "01403094",
   "metadata": {},
   "outputs": [
    {
     "data": {
      "image/png": "[encoded data removed]",
      "text/plain": [
       "<Figure size 640x480 with 1 Axes>"
      ]
     },
     "metadata": {},
     "output_type": "display_data"
    }
   ],
   "source": [
    "plt.scatter(X_bmi1,y)\n",
    "plt.plot(X_bmi1,prediction)\n",
    "plt.show()"
   ]
  }
 ],
 "metadata": {
  "kernelspec": {
   "display_name": "Python 3",
   "language": "python",
   "name": "python3"
  },
  "language_info": {
   "codemirror_mode": {
    "name": "ipython",
    "version": 3
   },
   "file_extension": ".py",
   "mimetype": "text/x-python",
   "name": "python",
   "nbconvert_exporter": "python",
   "pygments_lexer": "ipython3",
   "version": "3.13.1"
  }
 },
 "nbformat": 4,
 "nbformat_minor": 5
}
